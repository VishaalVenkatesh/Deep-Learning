{
 "cells": [
  {
   "cell_type": "code",
   "execution_count": 1,
   "metadata": {},
   "outputs": [
    {
     "data": {
      "text/plain": [
       "'\\n    Learning OpenCV 4 Computer Vision with Python 3\\n    Third Edition\\n\\n    Joseph Howse\\n    Joe Minichino\\n'"
      ]
     },
     "execution_count": 1,
     "metadata": {},
     "output_type": "execute_result"
    }
   ],
   "source": [
    "'''\n",
    "    Learning OpenCV 4 Computer Vision with Python 3\n",
    "    Third Edition\n",
    "\n",
    "    Joseph Howse\n",
    "    Joe Minichino\n",
    "'''"
   ]
  },
  {
   "cell_type": "code",
   "execution_count": 12,
   "metadata": {},
   "outputs": [],
   "source": [
    "import numpy as np\n",
    "import cv2\n",
    "import os"
   ]
  },
  {
   "cell_type": "code",
   "execution_count": 5,
   "metadata": {},
   "outputs": [
    {
     "data": {
      "text/plain": [
       "array([[0, 0, 0],\n",
       "       [0, 0, 0],\n",
       "       [0, 0, 0]], dtype=uint8)"
      ]
     },
     "execution_count": 5,
     "metadata": {},
     "output_type": "execute_result"
    }
   ],
   "source": [
    "'''\n",
    "    Each pixel in this 3, 3 image is represented by an 8 bit iteger. That's how we get 2^8 = 256 discrete possible values for\n",
    "    each pixel.\n",
    "'''\n",
    "img = np.zeros((3, 3), dtype = np.uint8)\n",
    "img"
   ]
  },
  {
   "cell_type": "code",
   "execution_count": 11,
   "metadata": {},
   "outputs": [
    {
     "data": {
      "text/plain": [
       "array([[[0, 0, 0],\n",
       "        [0, 0, 0],\n",
       "        [0, 0, 0]],\n",
       "\n",
       "       [[0, 0, 0],\n",
       "        [0, 0, 0],\n",
       "        [0, 0, 0]],\n",
       "\n",
       "       [[0, 0, 0],\n",
       "        [0, 0, 0],\n",
       "        [0, 0, 0]]], dtype=uint8)"
      ]
     },
     "execution_count": 11,
     "metadata": {},
     "output_type": "execute_result"
    }
   ],
   "source": [
    "'''\n",
    "    When we convert it to 3 channels (BGR) we get 3 different copies of our otiginal image array for each of the 3 color \n",
    "    channels\n",
    "'''\n",
    "img_BGR = cv2.cvtColor(img, cv2.COLOR_GRAY2BGR)\n",
    "img_BGR"
   ]
  },
  {
   "cell_type": "code",
   "execution_count": 13,
   "metadata": {},
   "outputs": [],
   "source": [
    "os.chdir('Sample Images/Malignant')"
   ]
  },
  {
   "cell_type": "code",
   "execution_count": 17,
   "metadata": {},
   "outputs": [
    {
     "data": {
      "text/plain": [
       "True"
      ]
     },
     "execution_count": 17,
     "metadata": {},
     "output_type": "execute_result"
    }
   ],
   "source": [
    "'''\n",
    "    We read a melanoma image and play around with it. We convert it to grayscale and save it. The size for this specific img\n",
    "    is 480X640 in grayscale. IMAGES ARE NOT ALL OF THE SAME SIZE...\n",
    "'''\n",
    "gray_malignant_img = cv2.imread('ISIC_0647224.jpg', cv2.IMREAD_GRAYSCALE)\n",
    "cv2.imwrite('ISIC_0647224_grayscale.jpg', gray_malignant_img)"
   ]
  },
  {
   "cell_type": "code",
   "execution_count": 44,
   "metadata": {},
   "outputs": [
    {
     "data": {
      "text/plain": [
       "True"
      ]
     },
     "execution_count": 44,
     "metadata": {},
     "output_type": "execute_result"
    }
   ],
   "source": [
    "'''\n",
    "    Next we use the concept of byte-arrays. This is a 1D representation of an image. We can convert back and forth to the rep\n",
    "    as follows.\n",
    "    \n",
    "    Notice how 120000 = 300*400 and 400*100*3\n",
    "'''\n",
    "\n",
    "#Make and array of 120,000 random bytes. urandom generates 120,000 radnom values between 0 and 255 simulating 8-bit rep of pixels\n",
    "random_byte = bytearray(os.urandom(12000000))\n",
    "flatnumpyarray = np.array(random_byte)\n",
    "\n",
    "#Convert the array to make a 400X300 grayscale image\n",
    "gray_img = flatnumpyarray.reshape(4000, 3000)\n",
    "cv2.imwrite('RandomGrayImg.jpeg', gray_img)\n",
    "\n",
    "#Convert the array to a 400*100 color image\n",
    "color_img = flatnumpyarray.reshape(4000, 1000, 3)\n",
    "cv2.imwrite('RandomColorImg.jpeg', color_img)"
   ]
  },
  {
   "cell_type": "code",
   "execution_count": 51,
   "metadata": {},
   "outputs": [
    {
     "data": {
      "text/plain": [
       "255"
      ]
     },
     "execution_count": 51,
     "metadata": {},
     "output_type": "execute_result"
    }
   ],
   "source": [
    "'''\n",
    "    Using 'item' and 'itemset functionalities from numpy to modify adn display image pixel values\n",
    "    Note - we can also emply slicing \n",
    "'''\n",
    "random_byte = bytearray(os.urandom(27))\n",
    "flatten_array = np.array(random_byte)\n",
    "\n",
    "color_img_small = flatten_array.reshape(3, 3, 3)\n",
    "\n",
    "#Using item_set to change value of a certain pixel. Was 55 initally, we change it to 255... (all red - assuming BGR)\n",
    "color_img_small.item((0, 1, 2))\n",
    "color_img_small.itemset((0, 1, 2), 255)\n",
    "color_img_small.item((0, 1, 2))"
   ]
  },
  {
   "cell_type": "code",
   "execution_count": 45,
   "metadata": {},
   "outputs": [
    {
     "data": {
      "text/plain": [
       "(4000, 3000)"
      ]
     },
     "execution_count": 45,
     "metadata": {},
     "output_type": "execute_result"
    }
   ],
   "source": [
    "gray_img.shape"
   ]
  },
  {
   "cell_type": "code",
   "execution_count": 16,
   "metadata": {},
   "outputs": [
    {
     "data": {
      "text/plain": [
       "['ISIC_0647224.jpg', 'ISIC_1834920.jpg', 'ISIC_5867911.jpg']"
      ]
     },
     "execution_count": 16,
     "metadata": {},
     "output_type": "execute_result"
    }
   ],
   "source": [
    "os.listdir()"
   ]
  },
  {
   "cell_type": "code",
   "execution_count": 19,
   "metadata": {},
   "outputs": [
    {
     "data": {
      "text/plain": [
       "'C:\\\\Users\\\\Vishaal\\\\Documents\\\\GitHub\\\\Deep-Learning\\\\Open CV\\\\Sample Images\\\\Malignant'"
      ]
     },
     "execution_count": 19,
     "metadata": {},
     "output_type": "execute_result"
    }
   ],
   "source": [
    "os.getcwd()"
   ]
  },
  {
   "cell_type": "code",
   "execution_count": null,
   "metadata": {},
   "outputs": [],
   "source": []
  }
 ],
 "metadata": {
  "kernelspec": {
   "display_name": "Python 3",
   "language": "python",
   "name": "python3"
  },
  "language_info": {
   "codemirror_mode": {
    "name": "ipython",
    "version": 3
   },
   "file_extension": ".py",
   "mimetype": "text/x-python",
   "name": "python",
   "nbconvert_exporter": "python",
   "pygments_lexer": "ipython3",
   "version": "3.7.3"
  }
 },
 "nbformat": 4,
 "nbformat_minor": 2
}
