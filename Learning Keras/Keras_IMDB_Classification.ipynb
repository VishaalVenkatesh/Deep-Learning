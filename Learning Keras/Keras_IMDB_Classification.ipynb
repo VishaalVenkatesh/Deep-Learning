{
 "cells": [
  {
   "cell_type": "code",
   "execution_count": 1,
   "metadata": {
    "pycharm": {
     "is_executing": false
    }
   },
   "outputs": [
    {
     "name": "stderr",
     "output_type": "stream",
     "text": [
      "Using TensorFlow backend.\n"
     ]
    }
   ],
   "source": [
    "'''\n",
    "    Importing Modules\n",
    "'''\n",
    "from keras.datasets import imdb\n",
    "import numpy as np\n",
    "from keras import models\n",
    "from keras import layers\n",
    "import matplotlib.pyplot as plt"
   ]
  },
  {
   "cell_type": "code",
   "execution_count": 3,
   "metadata": {
    "pycharm": {
     "is_executing": false,
     "name": "#%%\n"
    }
   },
   "outputs": [],
   "source": [
    "'''\n",
    "    Loading Training and Test Data\n",
    "'''\n",
    "(train_data, train_labels), (test_data, test_labels) = imdb.load_data(num_words = 10000)"
   ]
  },
  {
   "cell_type": "code",
   "execution_count": 4,
   "metadata": {
    "pycharm": {
     "is_executing": false,
     "name": "#%%\n"
    }
   },
   "outputs": [],
   "source": [
    "'''\n",
    "    We can't give NN a list of integers. So we create the following function to convert\n",
    "    to tensors of shape (rows, 10000). We also simultaneously perform one-hot encoding.\n",
    "'''\n",
    "def vectorize_sequences(sequences, dim = 10000):\n",
    "    results = np.zeros((len(sequences), dim))\n",
    "    for i, sequence in enumerate (sequences):\n",
    "        results[i, sequence] = 1\n",
    "    return (results)       \n",
    "    "
   ]
  },
  {
   "cell_type": "code",
   "execution_count": 5,
   "metadata": {
    "pycharm": {
     "is_executing": false,
     "name": "#%%\n"
    }
   },
   "outputs": [],
   "source": [
    "'''\n",
    "    Applying the function to test and train data\n",
    "'''\n",
    "x_train = vectorize_sequences(train_data)\n",
    "x_test = vectorize_sequences(test_data)"
   ]
  },
  {
   "cell_type": "code",
   "execution_count": 6,
   "metadata": {
    "pycharm": {
     "is_executing": false,
     "name": "#%%\n"
    }
   },
   "outputs": [],
   "source": [
    "'''\n",
    "    Vectorize the labels\n",
    "'''\n",
    "y_train = np.array(train_labels).astype('float32')\n",
    "y_test = np.array(test_labels).astype('float32')"
   ]
  },
  {
   "cell_type": "code",
   "execution_count": 8,
   "metadata": {
    "pycharm": {
     "is_executing": false,
     "name": "#%%\n"
    }
   },
   "outputs": [],
   "source": [
    "'''\n",
    "    Network Architecture\n",
    "'''\n",
    "model = models.Sequential()\n",
    "model.add(layers.Dense(16, activation = 'relu', input_shape = (10000,)))\n",
    "model.add(layers.Dense(16, activation = 'relu'))\n",
    "model.add(layers.Dense(1, activation = 'sigmoid'))\n",
    "\n"
   ]
  },
  {
   "cell_type": "code",
   "execution_count": 9,
   "metadata": {
    "pycharm": {
     "is_executing": false,
     "name": "#%%\n"
    }
   },
   "outputs": [],
   "source": [
    "'''\n",
    "    Specify loss function and optimizer\n",
    "'''\n",
    "model.compile(optimizer='rmsprop',\n",
    "loss='binary_crossentropy',\n",
    "metrics=['acc'])"
   ]
  },
  {
   "cell_type": "code",
   "execution_count": 10,
   "metadata": {
    "pycharm": {
     "is_executing": false,
     "name": "#%%\n"
    }
   },
   "outputs": [],
   "source": [
    "'''\n",
    "    Split train into validation and train\n",
    "'''\n",
    "x_val = x_train[0:10000]\n",
    "x_partial_train = x_train[10000:]\n",
    "y_val = y_train[0:10000]\n",
    "y_partial_train = y_train[10000:]\n"
   ]
  },
  {
   "cell_type": "code",
   "execution_count": 11,
   "metadata": {
    "pycharm": {
     "is_executing": false,
     "name": "#%%\n"
    }
   },
   "outputs": [
    {
     "name": "stdout",
     "output_type": "stream",
     "text": [
      "Train on 15000 samples, validate on 10000 samples\n",
      "Epoch 1/20\n",
      "15000/15000 [==============================] - 5s 307us/step - loss: 0.5093 - acc: 0.7958 - val_loss: 0.3878 - val_acc: 0.8687\n",
      "Epoch 2/20\n",
      "15000/15000 [==============================] - 2s 149us/step - loss: 0.3053 - acc: 0.9057 - val_loss: 0.3205 - val_acc: 0.8762\n",
      "Epoch 3/20\n",
      "15000/15000 [==============================] - 2s 143us/step - loss: 0.2234 - acc: 0.9307 - val_loss: 0.2778 - val_acc: 0.8920\n",
      "Epoch 4/20\n",
      "15000/15000 [==============================] - 2s 143us/step - loss: 0.1785 - acc: 0.9418 - val_loss: 0.2732 - val_acc: 0.8893\n",
      "Epoch 5/20\n",
      "15000/15000 [==============================] - 2s 138us/step - loss: 0.1446 - acc: 0.9548 - val_loss: 0.2854 - val_acc: 0.8865\n",
      "Epoch 6/20\n",
      "15000/15000 [==============================] - 2s 136us/step - loss: 0.1216 - acc: 0.9633 - val_loss: 0.2910 - val_acc: 0.8859\n",
      "Epoch 7/20\n",
      "15000/15000 [==============================] - 2s 129us/step - loss: 0.0989 - acc: 0.9716 - val_loss: 0.3038 - val_acc: 0.8849\n",
      "Epoch 8/20\n",
      "15000/15000 [==============================] - 2s 129us/step - loss: 0.0836 - acc: 0.9761 - val_loss: 0.3301 - val_acc: 0.8799\n",
      "Epoch 9/20\n",
      "15000/15000 [==============================] - 2s 129us/step - loss: 0.0662 - acc: 0.9830 - val_loss: 0.3457 - val_acc: 0.8811\n",
      "Epoch 10/20\n",
      "15000/15000 [==============================] - 2s 129us/step - loss: 0.0555 - acc: 0.9862 - val_loss: 0.3695 - val_acc: 0.8804\n",
      "Epoch 11/20\n",
      "15000/15000 [==============================] - 2s 128us/step - loss: 0.0438 - acc: 0.9903 - val_loss: 0.4111 - val_acc: 0.8720\n",
      "Epoch 12/20\n",
      "15000/15000 [==============================] - 3s 177us/step - loss: 0.0353 - acc: 0.9937 - val_loss: 0.4279 - val_acc: 0.8751\n",
      "Epoch 13/20\n",
      "15000/15000 [==============================] - 2s 148us/step - loss: 0.0270 - acc: 0.9952 - val_loss: 0.4579 - val_acc: 0.8725\n",
      "Epoch 14/20\n",
      "15000/15000 [==============================] - 2s 135us/step - loss: 0.0225 - acc: 0.9963 - val_loss: 0.4856 - val_acc: 0.8728\n",
      "Epoch 15/20\n",
      "15000/15000 [==============================] - 2s 132us/step - loss: 0.0164 - acc: 0.9981 - val_loss: 0.5241 - val_acc: 0.8700\n",
      "Epoch 16/20\n",
      "15000/15000 [==============================] - 2s 146us/step - loss: 0.0111 - acc: 0.9993 - val_loss: 0.5937 - val_acc: 0.8595\n",
      "Epoch 17/20\n",
      "15000/15000 [==============================] - 2s 143us/step - loss: 0.0126 - acc: 0.9978 - val_loss: 0.5889 - val_acc: 0.8693\n",
      "Epoch 18/20\n",
      "15000/15000 [==============================] - 2s 135us/step - loss: 0.0057 - acc: 0.9998 - val_loss: 0.6156 - val_acc: 0.8691\n",
      "Epoch 19/20\n",
      "15000/15000 [==============================] - 2s 134us/step - loss: 0.0066 - acc: 0.9993 - val_loss: 0.6467 - val_acc: 0.8679\n",
      "Epoch 20/20\n",
      "15000/15000 [==============================] - 2s 138us/step - loss: 0.0037 - acc: 0.9999 - val_loss: 0.6832 - val_acc: 0.8678\n"
     ]
    }
   ],
   "source": [
    "'''\n",
    "    Fit the data\n",
    "'''\n",
    "history = model.fit(x_partial_train, y_partial_train, epochs = 20, batch_size = 512, \n",
    "                    validation_data = (x_val, y_val))"
   ]
  },
  {
   "cell_type": "code",
   "execution_count": 12,
   "metadata": {
    "pycharm": {
     "is_executing": false,
     "name": "#%%\n"
    }
   },
   "outputs": [
    {
     "data": {
      "text/plain": [
       "dict_keys(['val_loss', 'val_acc', 'loss', 'acc'])"
      ]
     },
     "execution_count": 12,
     "metadata": {},
     "output_type": "execute_result"
    }
   ],
   "source": [
    "'''\n",
    "    Looking at the result\n",
    "'''\n",
    "history_dict = history.history\n",
    "history_dict.keys()\n",
    "    "
   ]
  },
  {
   "cell_type": "code",
   "execution_count": 13,
   "metadata": {
    "pycharm": {
     "is_executing": false,
     "name": "#%%\n"
    }
   },
   "outputs": [
    {
     "data": {
      "text/plain": [
       "Text(0.5, 1.0, 'Loss Vs Epoch for Training and Validation')"
      ]
     },
     "execution_count": 13,
     "metadata": {},
     "output_type": "execute_result"
    },
    {
     "data": {
      "image/png": "[encoded data removed]",
      "text/plain": [
       "<Figure size 432x288 with 1 Axes>"
      ]
     },
     "metadata": {
      "needs_background": "light"
     },
     "output_type": "display_data"
    }
   ],
   "source": [
    "'''\n",
    "    Plotting training and validation loss by epoch\n",
    "'''\n",
    "train_loss = history_dict['loss']\n",
    "val_loss = history_dict['val_loss']\n",
    "\n",
    "epoch = np.arange(1, 21)\n",
    "plt.plot(epoch, train_loss, 'b', label = 'Training Loss')\n",
    "plt.plot(epoch, val_loss, 'r', label = 'Validation Loss')\n",
    "plt.xlabel('Epoch Count')\n",
    "plt.ylabel('Loss')\n",
    "plt.legend()\n",
    "plt.title('Loss Vs Epoch for Training and Validation')"
   ]
  },
  {
   "cell_type": "code",
   "execution_count": 14,
   "metadata": {
    "pycharm": {
     "is_executing": false,
     "name": "#%%\n"
    }
   },
   "outputs": [
    {
     "data": {
      "text/plain": [
       "Text(0.5, 1.0, 'Accuaracy Vs Epoch for Training and Validation')"
      ]
     },
     "execution_count": 14,
     "metadata": {},
     "output_type": "execute_result"
    },
    {
     "data": {
      "image/png": "[encoded data removed]",
      "text/plain": [
       "<Figure size 432x288 with 1 Axes>"
      ]
     },
     "metadata": {
      "needs_background": "light"
     },
     "output_type": "display_data"
    }
   ],
   "source": [
    "'''\n",
    "    Plotting training and validation accuracy by epoch\n",
    "'''\n",
    "train_acc= history_dict['acc']\n",
    "val_acc = history_dict['val_acc']\n",
    "\n",
    "epoch = np.arange(1, 21)\n",
    "plt.plot(epoch, train_acc, 'b', label = 'Training Accuracy')\n",
    "plt.plot(epoch, val_acc, 'r', label = 'Validation Accuracy')\n",
    "plt.xlabel('Epoch Count')\n",
    "plt.ylabel('Accuracy')\n",
    "plt.legend()\n",
    "plt.title('Accuaracy Vs Epoch for Training and Validation')"
   ]
  },
  {
   "cell_type": "code",
   "execution_count": 15,
   "metadata": {
    "pycharm": {
     "is_executing": false,
     "name": "#%%\n"
    }
   },
   "outputs": [
    {
     "name": "stdout",
     "output_type": "stream",
     "text": [
      "Epoch 1/4\n",
      "25000/25000 [==============================] - 2s 100us/step - loss: 0.2245 - acc: 0.9468\n",
      "Epoch 2/4\n",
      "25000/25000 [==============================] - 2s 89us/step - loss: 0.1295 - acc: 0.9611\n",
      "Epoch 3/4\n",
      "25000/25000 [==============================] - 2s 87us/step - loss: 0.0985 - acc: 0.9703\n",
      "Epoch 4/4\n",
      "25000/25000 [==============================] - 2s 87us/step - loss: 0.0756 - acc: 0.9774\n"
     ]
    },
    {
     "data": {
      "text/plain": [
       "<keras.callbacks.callbacks.History at 0x1815ce8e8d0>"
      ]
     },
     "execution_count": 15,
     "metadata": {},
     "output_type": "execute_result"
    }
   ],
   "source": [
    "'''\n",
    "    We will set number of epochs to be about 4 and retrain the model and predict on test data\n",
    "'''\n",
    "model.fit(x_train, y_train, epochs = 4, batch_size = 512)"
   ]
  },
  {
   "cell_type": "code",
   "execution_count": 16,
   "metadata": {
    "pycharm": {
     "is_executing": false,
     "name": "#%%\n"
    }
   },
   "outputs": [
    {
     "name": "stdout",
     "output_type": "stream",
     "text": [
      "25000/25000 [==============================] - 4s 177us/step\n"
     ]
    },
    {
     "data": {
      "text/plain": [
       "[0.4848432689666748, 0.860480010509491]"
      ]
     },
     "execution_count": 16,
     "metadata": {},
     "output_type": "execute_result"
    }
   ],
   "source": [
    "'''\n",
    "    We achieve an accuracy of roughly 85%. Not bad \n",
    "'''\n",
    "results = model.evaluate(x_test, y_test)\n",
    "results"
   ]
  },
  {
   "cell_type": "code",
   "execution_count": null,
   "metadata": {},
   "outputs": [],
   "source": []
  },
  {
   "cell_type": "code",
   "execution_count": null,
   "metadata": {},
   "outputs": [],
   "source": []
  }
 ],
 "metadata": {
  "kernelspec": {
   "display_name": "Python 3",
   "language": "python",
   "name": "python3"
  },
  "language_info": {
   "codemirror_mode": {
    "name": "ipython",
    "version": 3
   },
   "file_extension": ".py",
   "mimetype": "text/x-python",
   "name": "python",
   "nbconvert_exporter": "python",
   "pygments_lexer": "ipython3",
   "version": "3.7.3"
  },
  "pycharm": {
   "stem_cell": {
    "cell_type": "raw",
    "metadata": {
     "collapsed": false
    },
    "source": []
   }
  }
 },
 "nbformat": 4,
 "nbformat_minor": 1
}
