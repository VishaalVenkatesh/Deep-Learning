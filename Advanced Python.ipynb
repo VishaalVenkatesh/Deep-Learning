{
 "cells": [
  {
   "cell_type": "code",
   "execution_count": 5,
   "metadata": {},
   "outputs": [],
   "source": [
    "import collections"
   ]
  },
  {
   "cell_type": "code",
   "execution_count": 8,
   "metadata": {},
   "outputs": [],
   "source": [
    "Card = collections.namedtuple('Card', ('rank', 'suits'))"
   ]
  },
  {
   "cell_type": "code",
   "execution_count": 22,
   "metadata": {},
   "outputs": [],
   "source": [
    "class FrenchDeck:\n",
    "    ranks = [str(n) for n in range(2,11)] + list('JQKA')\n",
    "    suits = 'spade heart club diamond'.split()\n",
    "    \n",
    "    def __init__(self):\n",
    "        self.cards = [Card(rank, suit) for rank in self.ranks\n",
    "                                       for suit in self.suits]\n",
    "        \n",
    "    def __len__(self):\n",
    "        return len(self.cards)\n",
    "    \n",
    "    def __getitem__(self, index):\n",
    "        return self.cards[index]"
   ]
  },
  {
   "cell_type": "code",
   "execution_count": 23,
   "metadata": {},
   "outputs": [],
   "source": [
    "newcard = Card('7', 'Spade')"
   ]
  },
  {
   "cell_type": "code",
   "execution_count": 24,
   "metadata": {},
   "outputs": [
    {
     "data": {
      "text/plain": [
       "Card(rank='7', suits='Spade')"
      ]
     },
     "execution_count": 24,
     "metadata": {},
     "output_type": "execute_result"
    }
   ],
   "source": [
    "newcard"
   ]
  },
  {
   "cell_type": "code",
   "execution_count": 33,
   "metadata": {},
   "outputs": [],
   "source": [
    "deck = FrenchDeck()"
   ]
  },
  {
   "cell_type": "code",
   "execution_count": 34,
   "metadata": {},
   "outputs": [
    {
     "data": {
      "text/plain": [
       "52"
      ]
     },
     "execution_count": 34,
     "metadata": {},
     "output_type": "execute_result"
    }
   ],
   "source": [
    "len(deck)"
   ]
  },
  {
   "cell_type": "code",
   "execution_count": 36,
   "metadata": {},
   "outputs": [
    {
     "data": {
      "text/plain": [
       "Card(rank='3', suits='heart')"
      ]
     },
     "execution_count": 36,
     "metadata": {},
     "output_type": "execute_result"
    }
   ],
   "source": [
    "from random import choice #to pick a random card\n",
    "choice(deck)"
   ]
  },
  {
   "cell_type": "code",
   "execution_count": 37,
   "metadata": {},
   "outputs": [
    {
     "data": {
      "text/plain": [
       "[Card(rank='3', suits='heart'),\n",
       " Card(rank='3', suits='club'),\n",
       " Card(rank='3', suits='diamond'),\n",
       " Card(rank='4', suits='spade'),\n",
       " Card(rank='4', suits='heart'),\n",
       " Card(rank='4', suits='club'),\n",
       " Card(rank='4', suits='diamond'),\n",
       " Card(rank='5', suits='spade'),\n",
       " Card(rank='5', suits='heart'),\n",
       " Card(rank='5', suits='club'),\n",
       " Card(rank='5', suits='diamond'),\n",
       " Card(rank='6', suits='spade')]"
      ]
     },
     "execution_count": 37,
     "metadata": {},
     "output_type": "execute_result"
    }
   ],
   "source": [
    "# __getitem__automatically incorporates slicing\n",
    "deck[5:17]"
   ]
  },
  {
   "cell_type": "code",
   "execution_count": 38,
   "metadata": {},
   "outputs": [
    {
     "name": "stdout",
     "output_type": "stream",
     "text": [
      "Card(rank='2', suits='spade')\n",
      "Card(rank='2', suits='heart')\n",
      "Card(rank='2', suits='club')\n",
      "Card(rank='2', suits='diamond')\n",
      "Card(rank='3', suits='spade')\n",
      "Card(rank='3', suits='heart')\n",
      "Card(rank='3', suits='club')\n",
      "Card(rank='3', suits='diamond')\n",
      "Card(rank='4', suits='spade')\n",
      "Card(rank='4', suits='heart')\n",
      "Card(rank='4', suits='club')\n",
      "Card(rank='4', suits='diamond')\n",
      "Card(rank='5', suits='spade')\n",
      "Card(rank='5', suits='heart')\n",
      "Card(rank='5', suits='club')\n",
      "Card(rank='5', suits='diamond')\n",
      "Card(rank='6', suits='spade')\n",
      "Card(rank='6', suits='heart')\n",
      "Card(rank='6', suits='club')\n",
      "Card(rank='6', suits='diamond')\n",
      "Card(rank='7', suits='spade')\n",
      "Card(rank='7', suits='heart')\n",
      "Card(rank='7', suits='club')\n",
      "Card(rank='7', suits='diamond')\n",
      "Card(rank='8', suits='spade')\n",
      "Card(rank='8', suits='heart')\n",
      "Card(rank='8', suits='club')\n",
      "Card(rank='8', suits='diamond')\n",
      "Card(rank='9', suits='spade')\n",
      "Card(rank='9', suits='heart')\n",
      "Card(rank='9', suits='club')\n",
      "Card(rank='9', suits='diamond')\n",
      "Card(rank='10', suits='spade')\n",
      "Card(rank='10', suits='heart')\n",
      "Card(rank='10', suits='club')\n",
      "Card(rank='10', suits='diamond')\n",
      "Card(rank='J', suits='spade')\n",
      "Card(rank='J', suits='heart')\n",
      "Card(rank='J', suits='club')\n",
      "Card(rank='J', suits='diamond')\n",
      "Card(rank='Q', suits='spade')\n",
      "Card(rank='Q', suits='heart')\n",
      "Card(rank='Q', suits='club')\n",
      "Card(rank='Q', suits='diamond')\n",
      "Card(rank='K', suits='spade')\n",
      "Card(rank='K', suits='heart')\n",
      "Card(rank='K', suits='club')\n",
      "Card(rank='K', suits='diamond')\n",
      "Card(rank='A', suits='spade')\n",
      "Card(rank='A', suits='heart')\n",
      "Card(rank='A', suits='club')\n",
      "Card(rank='A', suits='diamond')\n"
     ]
    }
   ],
   "source": [
    "for card in deck:\n",
    "    print (card)"
   ]
  },
  {
   "cell_type": "code",
   "execution_count": 39,
   "metadata": {},
   "outputs": [
    {
     "data": {
      "text/plain": [
       "1"
      ]
     },
     "execution_count": 39,
     "metadata": {},
     "output_type": "execute_result"
    }
   ],
   "source": [
    "s = '\\n'\n",
    "len(s)"
   ]
  },
  {
   "cell_type": "code",
   "execution_count": null,
   "metadata": {},
   "outputs": [],
   "source": []
  }
 ],
 "metadata": {
  "kernelspec": {
   "display_name": "Python 3",
   "language": "python",
   "name": "python3"
  },
  "language_info": {
   "codemirror_mode": {
    "name": "ipython",
    "version": 3
   },
   "file_extension": ".py",
   "mimetype": "text/x-python",
   "name": "python",
   "nbconvert_exporter": "python",
   "pygments_lexer": "ipython3",
   "version": "3.7.3"
  }
 },
 "nbformat": 4,
 "nbformat_minor": 2
}
