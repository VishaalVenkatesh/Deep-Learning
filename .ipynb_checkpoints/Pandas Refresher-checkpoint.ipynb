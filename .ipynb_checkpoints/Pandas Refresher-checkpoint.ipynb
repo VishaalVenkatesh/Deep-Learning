{
 "cells": [
  {
   "cell_type": "code",
   "execution_count": 1,
   "metadata": {},
   "outputs": [],
   "source": [
    "import pandas as pd"
   ]
  },
  {
   "cell_type": "code",
   "execution_count": 2,
   "metadata": {},
   "outputs": [],
   "source": [
    "invoices = pd.read_csv('https://raw.githubusercontent.com/FBosler/you-datascientist/master/invoices.csv')"
   ]
  },
  {
   "cell_type": "code",
   "execution_count": 3,
   "metadata": {},
   "outputs": [
    {
     "data": {
      "text/html": [
       "<div>\n",
       "<style scoped>\n",
       "    .dataframe tbody tr th:only-of-type {\n",
       "        vertical-align: middle;\n",
       "    }\n",
       "\n",
       "    .dataframe tbody tr th {\n",
       "        vertical-align: top;\n",
       "    }\n",
       "\n",
       "    .dataframe thead th {\n",
       "        text-align: right;\n",
       "    }\n",
       "</style>\n",
       "<table border=\"1\" class=\"dataframe\">\n",
       "  <thead>\n",
       "    <tr style=\"text-align: right;\">\n",
       "      <th></th>\n",
       "      <th>Order Id</th>\n",
       "      <th>Date</th>\n",
       "      <th>Meal Id</th>\n",
       "      <th>Company Id</th>\n",
       "      <th>Date of Meal</th>\n",
       "      <th>Participants</th>\n",
       "      <th>Meal Price</th>\n",
       "      <th>Type of Meal</th>\n",
       "      <th>Heroes Adjustment</th>\n",
       "    </tr>\n",
       "  </thead>\n",
       "  <tbody>\n",
       "    <tr>\n",
       "      <th>21378</th>\n",
       "      <td>Y6V76P8KYGRGDXI6</td>\n",
       "      <td>2018-07-01</td>\n",
       "      <td>EJTY6RX1QK42P066</td>\n",
       "      <td>CS0IZ0QKD3RN1G6J</td>\n",
       "      <td>2018-07-04 20:00:00+02:00</td>\n",
       "      <td>['Charles Wilkerson']</td>\n",
       "      <td>443.0</td>\n",
       "      <td>Dinner</td>\n",
       "      <td>False</td>\n",
       "    </tr>\n",
       "    <tr>\n",
       "      <th>917</th>\n",
       "      <td>SF8S3G904WD7RGI5</td>\n",
       "      <td>2015-05-05</td>\n",
       "      <td>OB124MG374UDX65D</td>\n",
       "      <td>POZ4YPQEAJ1C3JHI</td>\n",
       "      <td>2015-05-02 08:00:00+02:00</td>\n",
       "      <td>['Andrea Chausse']</td>\n",
       "      <td>37.0</td>\n",
       "      <td>Breakfast</td>\n",
       "      <td>False</td>\n",
       "    </tr>\n",
       "    <tr>\n",
       "      <th>625</th>\n",
       "      <td>OUX9R358OSYKZ5U2</td>\n",
       "      <td>2015-12-20</td>\n",
       "      <td>0G9SV16AURG363TE</td>\n",
       "      <td>KUNM2HEWXTYDWDQN</td>\n",
       "      <td>2015-12-15 12:00:00+01:00</td>\n",
       "      <td>['Jessica Vernon']</td>\n",
       "      <td>743.0</td>\n",
       "      <td>Lunch</td>\n",
       "      <td>False</td>\n",
       "    </tr>\n",
       "    <tr>\n",
       "      <th>15139</th>\n",
       "      <td>I1X6FEK0GZL2577M</td>\n",
       "      <td>2017-03-13</td>\n",
       "      <td>3Y2ZVN0QXB96ON1E</td>\n",
       "      <td>KOIRPC20A5RRYXP0</td>\n",
       "      <td>2017-03-15 12:00:00+01:00</td>\n",
       "      <td>['Wade Miller']</td>\n",
       "      <td>133.0</td>\n",
       "      <td>Lunch</td>\n",
       "      <td>False</td>\n",
       "    </tr>\n",
       "    <tr>\n",
       "      <th>43063</th>\n",
       "      <td>ZWQA8R6EIYBYOVR5</td>\n",
       "      <td>2014-03-12</td>\n",
       "      <td>ONBNLMD6ESBGMF5Z</td>\n",
       "      <td>RK15ZABW88FL6IOW</td>\n",
       "      <td>2014-03-07 08:00:00+01:00</td>\n",
       "      <td>['Robin Sliwa']</td>\n",
       "      <td>16.0</td>\n",
       "      <td>Breakfast</td>\n",
       "      <td>False</td>\n",
       "    </tr>\n",
       "  </tbody>\n",
       "</table>\n",
       "</div>"
      ],
      "text/plain": [
       "               Order Id        Date           Meal Id        Company Id  \\\n",
       "21378  Y6V76P8KYGRGDXI6  2018-07-01  EJTY6RX1QK42P066  CS0IZ0QKD3RN1G6J   \n",
       "917    SF8S3G904WD7RGI5  2015-05-05  OB124MG374UDX65D  POZ4YPQEAJ1C3JHI   \n",
       "625    OUX9R358OSYKZ5U2  2015-12-20  0G9SV16AURG363TE  KUNM2HEWXTYDWDQN   \n",
       "15139  I1X6FEK0GZL2577M  2017-03-13  3Y2ZVN0QXB96ON1E  KOIRPC20A5RRYXP0   \n",
       "43063  ZWQA8R6EIYBYOVR5  2014-03-12  ONBNLMD6ESBGMF5Z  RK15ZABW88FL6IOW   \n",
       "\n",
       "                    Date of Meal           Participants  Meal Price  \\\n",
       "21378  2018-07-04 20:00:00+02:00  ['Charles Wilkerson']       443.0   \n",
       "917    2015-05-02 08:00:00+02:00     ['Andrea Chausse']        37.0   \n",
       "625    2015-12-15 12:00:00+01:00     ['Jessica Vernon']       743.0   \n",
       "15139  2017-03-15 12:00:00+01:00        ['Wade Miller']       133.0   \n",
       "43063  2014-03-07 08:00:00+01:00        ['Robin Sliwa']        16.0   \n",
       "\n",
       "      Type of Meal  Heroes Adjustment  \n",
       "21378       Dinner              False  \n",
       "917      Breakfast              False  \n",
       "625          Lunch              False  \n",
       "15139        Lunch              False  \n",
       "43063    Breakfast              False  "
      ]
     },
     "execution_count": 3,
     "metadata": {},
     "output_type": "execute_result"
    }
   ],
   "source": [
    "invoices.sample(5)"
   ]
  },
  {
   "cell_type": "code",
   "execution_count": 7,
   "metadata": {},
   "outputs": [
    {
     "data": {
      "text/plain": [
       "Order Id              object\n",
       "Date                  object\n",
       "Meal Id               object\n",
       "Company Id            object\n",
       "Date of Meal          object\n",
       "Participants          object\n",
       "Meal Price           float64\n",
       "Type of Meal          object\n",
       "Heroes Adjustment       bool\n",
       "dtype: object"
      ]
     },
     "execution_count": 7,
     "metadata": {},
     "output_type": "execute_result"
    }
   ],
   "source": [
    "invoices.dtypes"
   ]
  },
  {
   "cell_type": "code",
   "execution_count": 11,
   "metadata": {},
   "outputs": [],
   "source": [
    "invoices['Type of Meal'] = invoices['Type of Meal'].astype('category')\n",
    "invoices['Date'] = invoices['Date'].astype('datetime64')\n",
    "invoices['Meal Price'] = invoices['Meal Price'].astype('int')"
   ]
  },
  {
   "cell_type": "code",
   "execution_count": 12,
   "metadata": {},
   "outputs": [
    {
     "data": {
      "text/plain": [
       "Order Id                     object\n",
       "Date                 datetime64[ns]\n",
       "Meal Id                      object\n",
       "Company Id                   object\n",
       "Date of Meal                 object\n",
       "Participants                 object\n",
       "Meal Price                    int32\n",
       "Type of Meal               category\n",
       "Heroes Adjustment              bool\n",
       "dtype: object"
      ]
     },
     "execution_count": 12,
     "metadata": {},
     "output_type": "execute_result"
    }
   ],
   "source": [
    "invoices.dtypes"
   ]
  },
  {
   "cell_type": "code",
   "execution_count": 14,
   "metadata": {},
   "outputs": [],
   "source": [
    "invoices.loc[45612,'Meal Price'] = 'I am causing trouble'\n",
    "invoices.loc[35612,'Meal Price'] = 'Me too'"
   ]
  },
  {
   "cell_type": "code",
   "execution_count": 15,
   "metadata": {},
   "outputs": [
    {
     "ename": "ValueError",
     "evalue": "invalid literal for int() with base 10: 'Me too'",
     "output_type": "error",
     "traceback": [
      "\u001b[1;31m---------------------------------------------------------------------------\u001b[0m",
      "\u001b[1;31mValueError\u001b[0m                                Traceback (most recent call last)",
      "\u001b[1;32m<ipython-input-15-1ebdbf49f9ec>\u001b[0m in \u001b[0;36m<module>\u001b[1;34m\u001b[0m\n\u001b[1;32m----> 1\u001b[1;33m \u001b[0minvoices\u001b[0m\u001b[1;33m[\u001b[0m\u001b[1;34m'Meal Price'\u001b[0m\u001b[1;33m]\u001b[0m\u001b[1;33m.\u001b[0m\u001b[0mastype\u001b[0m\u001b[1;33m(\u001b[0m\u001b[1;34m'int'\u001b[0m\u001b[1;33m)\u001b[0m\u001b[1;33m\u001b[0m\u001b[1;33m\u001b[0m\u001b[0m\n\u001b[0m",
      "\u001b[1;32m~\\Anaconda3_Mod\\lib\\site-packages\\pandas\\core\\generic.py\u001b[0m in \u001b[0;36mastype\u001b[1;34m(self, dtype, copy, errors, **kwargs)\u001b[0m\n\u001b[0;32m   5689\u001b[0m             \u001b[1;31m# else, only a single dtype is given\u001b[0m\u001b[1;33m\u001b[0m\u001b[1;33m\u001b[0m\u001b[1;33m\u001b[0m\u001b[0m\n\u001b[0;32m   5690\u001b[0m             new_data = self._data.astype(dtype=dtype, copy=copy, errors=errors,\n\u001b[1;32m-> 5691\u001b[1;33m                                          **kwargs)\n\u001b[0m\u001b[0;32m   5692\u001b[0m             \u001b[1;32mreturn\u001b[0m \u001b[0mself\u001b[0m\u001b[1;33m.\u001b[0m\u001b[0m_constructor\u001b[0m\u001b[1;33m(\u001b[0m\u001b[0mnew_data\u001b[0m\u001b[1;33m)\u001b[0m\u001b[1;33m.\u001b[0m\u001b[0m__finalize__\u001b[0m\u001b[1;33m(\u001b[0m\u001b[0mself\u001b[0m\u001b[1;33m)\u001b[0m\u001b[1;33m\u001b[0m\u001b[1;33m\u001b[0m\u001b[0m\n\u001b[0;32m   5693\u001b[0m \u001b[1;33m\u001b[0m\u001b[0m\n",
      "\u001b[1;32m~\\Anaconda3_Mod\\lib\\site-packages\\pandas\\core\\internals\\managers.py\u001b[0m in \u001b[0;36mastype\u001b[1;34m(self, dtype, **kwargs)\u001b[0m\n\u001b[0;32m    529\u001b[0m \u001b[1;33m\u001b[0m\u001b[0m\n\u001b[0;32m    530\u001b[0m     \u001b[1;32mdef\u001b[0m \u001b[0mastype\u001b[0m\u001b[1;33m(\u001b[0m\u001b[0mself\u001b[0m\u001b[1;33m,\u001b[0m \u001b[0mdtype\u001b[0m\u001b[1;33m,\u001b[0m \u001b[1;33m**\u001b[0m\u001b[0mkwargs\u001b[0m\u001b[1;33m)\u001b[0m\u001b[1;33m:\u001b[0m\u001b[1;33m\u001b[0m\u001b[1;33m\u001b[0m\u001b[0m\n\u001b[1;32m--> 531\u001b[1;33m         \u001b[1;32mreturn\u001b[0m \u001b[0mself\u001b[0m\u001b[1;33m.\u001b[0m\u001b[0mapply\u001b[0m\u001b[1;33m(\u001b[0m\u001b[1;34m'astype'\u001b[0m\u001b[1;33m,\u001b[0m \u001b[0mdtype\u001b[0m\u001b[1;33m=\u001b[0m\u001b[0mdtype\u001b[0m\u001b[1;33m,\u001b[0m \u001b[1;33m**\u001b[0m\u001b[0mkwargs\u001b[0m\u001b[1;33m)\u001b[0m\u001b[1;33m\u001b[0m\u001b[1;33m\u001b[0m\u001b[0m\n\u001b[0m\u001b[0;32m    532\u001b[0m \u001b[1;33m\u001b[0m\u001b[0m\n\u001b[0;32m    533\u001b[0m     \u001b[1;32mdef\u001b[0m \u001b[0mconvert\u001b[0m\u001b[1;33m(\u001b[0m\u001b[0mself\u001b[0m\u001b[1;33m,\u001b[0m \u001b[1;33m**\u001b[0m\u001b[0mkwargs\u001b[0m\u001b[1;33m)\u001b[0m\u001b[1;33m:\u001b[0m\u001b[1;33m\u001b[0m\u001b[1;33m\u001b[0m\u001b[0m\n",
      "\u001b[1;32m~\\Anaconda3_Mod\\lib\\site-packages\\pandas\\core\\internals\\managers.py\u001b[0m in \u001b[0;36mapply\u001b[1;34m(self, f, axes, filter, do_integrity_check, consolidate, **kwargs)\u001b[0m\n\u001b[0;32m    393\u001b[0m                                             copy=align_copy)\n\u001b[0;32m    394\u001b[0m \u001b[1;33m\u001b[0m\u001b[0m\n\u001b[1;32m--> 395\u001b[1;33m             \u001b[0mapplied\u001b[0m \u001b[1;33m=\u001b[0m \u001b[0mgetattr\u001b[0m\u001b[1;33m(\u001b[0m\u001b[0mb\u001b[0m\u001b[1;33m,\u001b[0m \u001b[0mf\u001b[0m\u001b[1;33m)\u001b[0m\u001b[1;33m(\u001b[0m\u001b[1;33m**\u001b[0m\u001b[0mkwargs\u001b[0m\u001b[1;33m)\u001b[0m\u001b[1;33m\u001b[0m\u001b[1;33m\u001b[0m\u001b[0m\n\u001b[0m\u001b[0;32m    396\u001b[0m             \u001b[0mresult_blocks\u001b[0m \u001b[1;33m=\u001b[0m \u001b[0m_extend_blocks\u001b[0m\u001b[1;33m(\u001b[0m\u001b[0mapplied\u001b[0m\u001b[1;33m,\u001b[0m \u001b[0mresult_blocks\u001b[0m\u001b[1;33m)\u001b[0m\u001b[1;33m\u001b[0m\u001b[1;33m\u001b[0m\u001b[0m\n\u001b[0;32m    397\u001b[0m \u001b[1;33m\u001b[0m\u001b[0m\n",
      "\u001b[1;32m~\\Anaconda3_Mod\\lib\\site-packages\\pandas\\core\\internals\\blocks.py\u001b[0m in \u001b[0;36mastype\u001b[1;34m(self, dtype, copy, errors, values, **kwargs)\u001b[0m\n\u001b[0;32m    532\u001b[0m     \u001b[1;32mdef\u001b[0m \u001b[0mastype\u001b[0m\u001b[1;33m(\u001b[0m\u001b[0mself\u001b[0m\u001b[1;33m,\u001b[0m \u001b[0mdtype\u001b[0m\u001b[1;33m,\u001b[0m \u001b[0mcopy\u001b[0m\u001b[1;33m=\u001b[0m\u001b[1;32mFalse\u001b[0m\u001b[1;33m,\u001b[0m \u001b[0merrors\u001b[0m\u001b[1;33m=\u001b[0m\u001b[1;34m'raise'\u001b[0m\u001b[1;33m,\u001b[0m \u001b[0mvalues\u001b[0m\u001b[1;33m=\u001b[0m\u001b[1;32mNone\u001b[0m\u001b[1;33m,\u001b[0m \u001b[1;33m**\u001b[0m\u001b[0mkwargs\u001b[0m\u001b[1;33m)\u001b[0m\u001b[1;33m:\u001b[0m\u001b[1;33m\u001b[0m\u001b[1;33m\u001b[0m\u001b[0m\n\u001b[0;32m    533\u001b[0m         return self._astype(dtype, copy=copy, errors=errors, values=values,\n\u001b[1;32m--> 534\u001b[1;33m                             **kwargs)\n\u001b[0m\u001b[0;32m    535\u001b[0m \u001b[1;33m\u001b[0m\u001b[0m\n\u001b[0;32m    536\u001b[0m     def _astype(self, dtype, copy=False, errors='raise', values=None,\n",
      "\u001b[1;32m~\\Anaconda3_Mod\\lib\\site-packages\\pandas\\core\\internals\\blocks.py\u001b[0m in \u001b[0;36m_astype\u001b[1;34m(self, dtype, copy, errors, values, **kwargs)\u001b[0m\n\u001b[0;32m    631\u001b[0m \u001b[1;33m\u001b[0m\u001b[0m\n\u001b[0;32m    632\u001b[0m                     \u001b[1;31m# _astype_nansafe works fine with 1-d only\u001b[0m\u001b[1;33m\u001b[0m\u001b[1;33m\u001b[0m\u001b[1;33m\u001b[0m\u001b[0m\n\u001b[1;32m--> 633\u001b[1;33m                     \u001b[0mvalues\u001b[0m \u001b[1;33m=\u001b[0m \u001b[0mastype_nansafe\u001b[0m\u001b[1;33m(\u001b[0m\u001b[0mvalues\u001b[0m\u001b[1;33m.\u001b[0m\u001b[0mravel\u001b[0m\u001b[1;33m(\u001b[0m\u001b[1;33m)\u001b[0m\u001b[1;33m,\u001b[0m \u001b[0mdtype\u001b[0m\u001b[1;33m,\u001b[0m \u001b[0mcopy\u001b[0m\u001b[1;33m=\u001b[0m\u001b[1;32mTrue\u001b[0m\u001b[1;33m)\u001b[0m\u001b[1;33m\u001b[0m\u001b[1;33m\u001b[0m\u001b[0m\n\u001b[0m\u001b[0;32m    634\u001b[0m \u001b[1;33m\u001b[0m\u001b[0m\n\u001b[0;32m    635\u001b[0m                 \u001b[1;31m# TODO(extension)\u001b[0m\u001b[1;33m\u001b[0m\u001b[1;33m\u001b[0m\u001b[1;33m\u001b[0m\u001b[0m\n",
      "\u001b[1;32m~\\Anaconda3_Mod\\lib\\site-packages\\pandas\\core\\dtypes\\cast.py\u001b[0m in \u001b[0;36mastype_nansafe\u001b[1;34m(arr, dtype, copy, skipna)\u001b[0m\n\u001b[0;32m    681\u001b[0m         \u001b[1;31m# work around NumPy brokenness, #1987\u001b[0m\u001b[1;33m\u001b[0m\u001b[1;33m\u001b[0m\u001b[1;33m\u001b[0m\u001b[0m\n\u001b[0;32m    682\u001b[0m         \u001b[1;32mif\u001b[0m \u001b[0mnp\u001b[0m\u001b[1;33m.\u001b[0m\u001b[0missubdtype\u001b[0m\u001b[1;33m(\u001b[0m\u001b[0mdtype\u001b[0m\u001b[1;33m.\u001b[0m\u001b[0mtype\u001b[0m\u001b[1;33m,\u001b[0m \u001b[0mnp\u001b[0m\u001b[1;33m.\u001b[0m\u001b[0minteger\u001b[0m\u001b[1;33m)\u001b[0m\u001b[1;33m:\u001b[0m\u001b[1;33m\u001b[0m\u001b[1;33m\u001b[0m\u001b[0m\n\u001b[1;32m--> 683\u001b[1;33m             \u001b[1;32mreturn\u001b[0m \u001b[0mlib\u001b[0m\u001b[1;33m.\u001b[0m\u001b[0mastype_intsafe\u001b[0m\u001b[1;33m(\u001b[0m\u001b[0marr\u001b[0m\u001b[1;33m.\u001b[0m\u001b[0mravel\u001b[0m\u001b[1;33m(\u001b[0m\u001b[1;33m)\u001b[0m\u001b[1;33m,\u001b[0m \u001b[0mdtype\u001b[0m\u001b[1;33m)\u001b[0m\u001b[1;33m.\u001b[0m\u001b[0mreshape\u001b[0m\u001b[1;33m(\u001b[0m\u001b[0marr\u001b[0m\u001b[1;33m.\u001b[0m\u001b[0mshape\u001b[0m\u001b[1;33m)\u001b[0m\u001b[1;33m\u001b[0m\u001b[1;33m\u001b[0m\u001b[0m\n\u001b[0m\u001b[0;32m    684\u001b[0m \u001b[1;33m\u001b[0m\u001b[0m\n\u001b[0;32m    685\u001b[0m         \u001b[1;31m# if we have a datetime/timedelta array of objects\u001b[0m\u001b[1;33m\u001b[0m\u001b[1;33m\u001b[0m\u001b[1;33m\u001b[0m\u001b[0m\n",
      "\u001b[1;32mpandas/_libs/lib.pyx\u001b[0m in \u001b[0;36mpandas._libs.lib.astype_intsafe\u001b[1;34m()\u001b[0m\n",
      "\u001b[1;31mValueError\u001b[0m: invalid literal for int() with base 10: 'Me too'"
     ]
    }
   ],
   "source": [
    "invoices['Meal Price'].astype('int')"
   ]
  },
  {
   "cell_type": "code",
   "execution_count": 17,
   "metadata": {},
   "outputs": [
    {
     "data": {
      "text/plain": [
       "<class 'int'>    50015\n",
       "<class 'str'>        2\n",
       "Name: Meal Price, dtype: int64"
      ]
     },
     "execution_count": 17,
     "metadata": {},
     "output_type": "execute_result"
    }
   ],
   "source": [
    "invoices['Meal Price'].apply(lambda x:type(x)).value_counts()"
   ]
  },
  {
   "cell_type": "code",
   "execution_count": 20,
   "metadata": {},
   "outputs": [
    {
     "data": {
      "text/plain": [
       "35612                  Me too\n",
       "45612    I am causing trouble\n",
       "Name: Meal Price, dtype: object"
      ]
     },
     "execution_count": 20,
     "metadata": {},
     "output_type": "execute_result"
    }
   ],
   "source": [
    "invoices['Meal Price'][invoices['Meal Price'].apply(lambda x: isinstance(x,str))]"
   ]
  },
  {
   "cell_type": "code",
   "execution_count": 22,
   "metadata": {},
   "outputs": [],
   "source": [
    "invoices['Meal Price'] = pd.to_numeric(invoices['Meal Price'], errors = 'coerce')"
   ]
  },
  {
   "cell_type": "code",
   "execution_count": 23,
   "metadata": {},
   "outputs": [
    {
     "data": {
      "text/plain": [
       "Order Id                     object\n",
       "Date                 datetime64[ns]\n",
       "Meal Id                      object\n",
       "Company Id                   object\n",
       "Date of Meal                 object\n",
       "Participants                 object\n",
       "Meal Price                  float64\n",
       "Type of Meal               category\n",
       "Heroes Adjustment              bool\n",
       "dtype: object"
      ]
     },
     "execution_count": 23,
     "metadata": {},
     "output_type": "execute_result"
    }
   ],
   "source": [
    "invoices.dtypes"
   ]
  },
  {
   "cell_type": "code",
   "execution_count": 26,
   "metadata": {},
   "outputs": [],
   "source": [
    "invoices['Meal Price'] = invoices['Meal Price'].fillna(invoices['Meal Price'].median())"
   ]
  },
  {
   "cell_type": "code",
   "execution_count": 27,
   "metadata": {},
   "outputs": [],
   "source": [
    "invoices['Meal Price'] = invoices['Meal Price'].astype('int')"
   ]
  },
  {
   "cell_type": "code",
   "execution_count": 29,
   "metadata": {},
   "outputs": [
    {
     "data": {
      "text/plain": [
       "Timestamp('2019-01-08 00:00:00')"
      ]
     },
     "execution_count": 29,
     "metadata": {},
     "output_type": "execute_result"
    }
   ],
   "source": [
    "'''\n",
    "    pd.to_datetime takes input in any format and converts it into year-month-day format.\n",
    "'''\n",
    "pd.to_datetime('20190108',format='%Y%d%m')"
   ]
  },
  {
   "cell_type": "code",
   "execution_count": 32,
   "metadata": {},
   "outputs": [
    {
     "data": {
      "text/plain": [
       "Timestamp('2019-08-01 00:00:00')"
      ]
     },
     "execution_count": 32,
     "metadata": {},
     "output_type": "execute_result"
    }
   ],
   "source": [
    "pd.to_datetime('yolo 20190108', format = '%Y%d%m', exact = False)"
   ]
  },
  {
   "cell_type": "code",
   "execution_count": 33,
   "metadata": {},
   "outputs": [],
   "source": [
    "invoices['Date of Meal'] = pd.to_datetime(invoices['Date of Meal'], utc = True)"
   ]
  },
  {
   "cell_type": "code",
   "execution_count": 51,
   "metadata": {},
   "outputs": [
    {
     "data": {
      "text/plain": [
       "0          Tuesday\n",
       "1           Monday\n",
       "2         Saturday\n",
       "3           Monday\n",
       "4           Monday\n",
       "5         Thursday\n",
       "6        Wednesday\n",
       "7        Wednesday\n",
       "8           Monday\n",
       "9         Thursday\n",
       "10        Saturday\n",
       "11          Friday\n",
       "12         Tuesday\n",
       "13        Thursday\n",
       "14        Saturday\n",
       "15        Thursday\n",
       "16       Wednesday\n",
       "17          Friday\n",
       "18          Sunday\n",
       "19          Monday\n",
       "20       Wednesday\n",
       "21        Thursday\n",
       "22        Saturday\n",
       "23         Tuesday\n",
       "24        Saturday\n",
       "25        Thursday\n",
       "26          Monday\n",
       "27        Saturday\n",
       "28          Friday\n",
       "29          Friday\n",
       "           ...    \n",
       "49987       Monday\n",
       "49988    Wednesday\n",
       "49989       Friday\n",
       "49990       Sunday\n",
       "49991       Monday\n",
       "49992       Friday\n",
       "49993     Saturday\n",
       "49994       Monday\n",
       "49995       Monday\n",
       "49996       Friday\n",
       "49997     Saturday\n",
       "49998       Sunday\n",
       "49999       Monday\n",
       "50000     Thursday\n",
       "50001       Monday\n",
       "50002    Wednesday\n",
       "50003       Friday\n",
       "50004       Friday\n",
       "50005     Saturday\n",
       "50006      Tuesday\n",
       "50007     Thursday\n",
       "50008       Monday\n",
       "50009     Saturday\n",
       "50010       Sunday\n",
       "50011       Sunday\n",
       "50012     Thursday\n",
       "50013       Sunday\n",
       "50014       Friday\n",
       "50015     Thursday\n",
       "50016     Saturday\n",
       "Name: Date of Meal, Length: 50017, dtype: object"
      ]
     },
     "execution_count": 51,
     "metadata": {},
     "output_type": "execute_result"
    }
   ],
   "source": [
    "invoices['Date of Meal'].dt.weekday_name"
   ]
  },
  {
   "cell_type": "code",
   "execution_count": 55,
   "metadata": {},
   "outputs": [
    {
     "data": {
      "text/plain": [
       "0       2016-05-31 05:00:00+00:00\n",
       "9       2016-01-14 21:00:00+00:00\n",
       "10      2016-10-01 20:00:00+00:00\n",
       "12      2016-12-13 07:00:00+00:00\n",
       "14      2016-09-03 12:00:00+00:00\n",
       "25      2016-06-09 06:00:00+00:00\n",
       "26      2016-09-26 05:00:00+00:00\n",
       "31      2016-06-07 20:00:00+00:00\n",
       "32      2016-05-14 10:00:00+00:00\n",
       "40      2016-12-12 12:00:00+00:00\n",
       "48      2016-11-01 19:00:00+00:00\n",
       "51      2016-11-07 06:00:00+00:00\n",
       "63      2016-09-23 05:00:00+00:00\n",
       "65      2016-04-23 18:00:00+00:00\n",
       "66      2016-04-21 06:00:00+00:00\n",
       "67      2016-10-03 11:00:00+00:00\n",
       "71      2016-06-07 11:00:00+00:00\n",
       "75      2016-11-07 12:00:00+00:00\n",
       "79      2016-11-29 13:00:00+00:00\n",
       "86      2016-12-05 21:00:00+00:00\n",
       "98      2016-02-04 13:00:00+00:00\n",
       "99      2016-07-14 11:00:00+00:00\n",
       "105     2016-08-15 06:00:00+00:00\n",
       "106     2016-05-04 11:00:00+00:00\n",
       "107     2016-12-22 13:00:00+00:00\n",
       "111     2016-01-02 19:00:00+00:00\n",
       "119     2016-08-23 19:00:00+00:00\n",
       "121     2016-02-23 13:00:00+00:00\n",
       "124     2016-11-11 20:00:00+00:00\n",
       "126     2016-04-18 07:00:00+00:00\n",
       "                   ...           \n",
       "49905   2016-09-06 07:00:00+00:00\n",
       "49907   2016-01-17 21:00:00+00:00\n",
       "49908   2016-03-30 11:00:00+00:00\n",
       "49909   2016-12-07 19:00:00+00:00\n",
       "49919   2016-04-09 10:00:00+00:00\n",
       "49920   2016-01-27 21:00:00+00:00\n",
       "49925   2016-05-10 18:00:00+00:00\n",
       "49929   2016-01-31 21:00:00+00:00\n",
       "49936   2016-12-26 21:00:00+00:00\n",
       "49937   2016-09-10 11:00:00+00:00\n",
       "49939   2016-09-12 20:00:00+00:00\n",
       "49941   2016-10-02 11:00:00+00:00\n",
       "49946   2016-10-30 19:00:00+00:00\n",
       "49948   2016-03-07 07:00:00+00:00\n",
       "49949   2016-12-17 11:00:00+00:00\n",
       "49961   2016-02-11 12:00:00+00:00\n",
       "49962   2016-12-02 07:00:00+00:00\n",
       "49966   2016-06-05 18:00:00+00:00\n",
       "49967   2016-06-24 06:00:00+00:00\n",
       "49968   2016-06-20 19:00:00+00:00\n",
       "49975   2016-10-06 07:00:00+00:00\n",
       "49976   2016-05-11 06:00:00+00:00\n",
       "49989   2016-08-26 10:00:00+00:00\n",
       "49994   2016-05-02 07:00:00+00:00\n",
       "50002   2016-11-09 08:00:00+00:00\n",
       "50003   2016-12-23 11:00:00+00:00\n",
       "50005   2016-08-27 07:00:00+00:00\n",
       "50008   2016-08-08 06:00:00+00:00\n",
       "50009   2016-03-12 08:00:00+00:00\n",
       "50010   2016-05-15 20:00:00+00:00\n",
       "Name: Date of Meal, Length: 9862, dtype: datetime64[ns, UTC]"
      ]
     },
     "execution_count": 55,
     "metadata": {},
     "output_type": "execute_result"
    }
   ],
   "source": [
    "'''\n",
    "    Outputs only for leap years\n",
    "    can also do - is_leap_year, is_month_start, is_month_end, is_quarter_start, is_quarter_end, is_year_start, is_year_end\n",
    "'''\n",
    "invoices['Date of Meal'][invoices['Date of Meal'].dt.is_leap_year]"
   ]
  },
  {
   "cell_type": "code",
   "execution_count": null,
   "metadata": {},
   "outputs": [],
   "source": []
  }
 ],
 "metadata": {
  "kernelspec": {
   "display_name": "Python 3",
   "language": "python",
   "name": "python3"
  },
  "language_info": {
   "codemirror_mode": {
    "name": "ipython",
    "version": 3
   },
   "file_extension": ".py",
   "mimetype": "text/x-python",
   "name": "python",
   "nbconvert_exporter": "python",
   "pygments_lexer": "ipython3",
   "version": "3.7.3"
  }
 },
 "nbformat": 4,
 "nbformat_minor": 2
}
